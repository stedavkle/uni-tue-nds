{
 "cells": [
  {
   "cell_type": "markdown",
   "metadata": {},
   "source": [
    "_Neural Data Analysis_\n",
    "\n",
    "Lecturer: Jan Lause, Prof. Dr. Philipp Berens\n",
    "\n",
    "Tutors: Jonas Beck, Rita González Márquez, Fabio Seel\n",
    "\n",
    "Summer term 2024\n",
    "\n",
    "Name: Stephan Amann, Hannah Blaurock, David Kleindiek\n",
    "\n",
    "# Coding Lab 5\n",
    "\n"
   ]
  },
  {
   "cell_type": "code",
   "execution_count": null,
   "metadata": {},
   "outputs": [
    {
     "name": "stdout",
     "output_type": "stream",
     "text": [
      "The jupyter_black extension is already loaded. To reload it, use:\n",
      "  %reload_ext jupyter_black\n",
      "The watermark extension is already loaded. To reload it, use:\n",
      "  %reload_ext watermark\n",
      "Last updated: 2024-06-07 10:48:48CEST\n",
      "\n",
      "Python implementation: CPython\n",
      "Python version       : 3.10.14\n",
      "IPython version      : 8.24.0\n",
      "\n",
      "sklearn: 1.4.2\n",
      "\n",
      "numpy     : 1.26.4\n",
      "matplotlib: 3.8.4\n",
      "scipy     : 1.13.0\n",
      "\n",
      "Watermark: 2.4.3\n",
      "\n"
     ]
    }
   ],
   "source": [
    "import matplotlib.pyplot as plt\n",
    "import numpy as np\n",
    "import scipy.optimize as opt\n",
    "import scipy.io as io\n",
    "import scipy.special as sp  # for array factorial and log function\n",
    "\n",
    "%load_ext jupyter_black\n",
    "\n",
    "%load_ext watermark\n",
    "%watermark --time --date --timezone --updated --python --iversions --watermark -p sklearn\n",
    "\n",
    "%matplotlib inline\n",
    "plt.style.use(\"../matplotlib_style.txt\")"
   ]
  },
  {
   "cell_type": "markdown",
   "metadata": {},
   "source": [
    "## Task 1: Fit RF on simulated data\n",
    "\n",
    "We will start  with toy data generated from an LNP model neuron to make sure everything works right. The model LNP neuron consists of one Gaussian linear filter, an exponential nonlinearity and a Poisson spike count generator. We look at it in discrete time with time bins of width $\\delta t$. The model is:\n",
    "\n",
    "$$\n",
    "c_t \\sim Poisson(r_t)\\\\\n",
    "r_t = \\exp(w^T s_t) \\cdot \\Delta t \\cdot R\n",
    "$$\n",
    "\n",
    "Here, $c_t$ is the spike count in time window $t$ of length $\\Delta t$, $s_t$ is the stimulus and $w$ is the receptive field of the neuron. The receptive field variable `w` is 15 × 15 pixels and normalized to $||w||=1$. A stimulus frame is a 15 × 15 pixel image, for which we use uncorrelated checkerboard noise. R can be used to bring the firing rate into the right regime (e.g. by setting $R=50$).      \n",
    "\n",
    "For computational ease, we reformat the stimulus and the receptive field in a 225 by 1 array. The function ```sample_lnp``` can be used to generate data from this model. It returns a spike count vector `c` with samples from the model (dimensions: 1 by nT = $T/\\Delta t$), a stimulus matrix `s` (dimensions: 225 × nT) and the mean firing rate `r` (dimensions: nT × 1). \n",
    "\n",
    "Here we assume that the receptive field influences the spike count instantaneously just as in the above equations. Implement a Maximum Likelihood approach to fit the receptive field. \n",
    "\n",
    "To this end simplify and implement the log-likelihood function $L(w)$ and its gradient $\\frac{L(w)}{dw}$ with respect to $w$ (`negloglike_lnp`). The log-likelihood of the model is\n",
    "$$L(w) = \\log \\prod_t \\frac{r_t^{c_t}}{c_t!}\\exp(-r_t).$$\n",
    "\n",
    "Plot the true receptive field, a stimulus frame, the spike counts and the estimated receptive field. \n",
    "\n",
    "*Grading: 2 pts (calculations) + 3 pts (implementation)*\n"
   ]
  },
  {
   "cell_type": "markdown",
   "metadata": {},
   "source": [
    "### Calculations\n",
    "_You can add your calculations in_ $\\LaTeX$ _here_.\n",
    "\n",
    "$$\\begin{align*}\n",
    "L(\\omega)   &= \\sum_t \\left( \\log(\\frac{r_t^{c_t}}{c_t!}) + \\log(\\exp(-r_t)) \\right) \\\\\n",
    "            &= \\sum_t \\left( \\log(r_t^{c_t}) - \\log(c_t!) + \\log(\\exp(-r_t)) \\right) \\\\\n",
    "            &= \\sum_t \\left( c_t \\log(r_t) - \\log(c_t!) - r_t \\right) \\\\\n",
    "            &= \\sum_t \\left( c_t \\log(\\exp(w^T s_t) \\cdot \\Delta t \\cdot R) - \\log(c_t!) - \\exp(w^T s_t) \\cdot \\Delta t \\cdot R \\right) & \\text{// insert $r_t$} \\\\\n",
    "            &= \\sum_t \\left( c_t (w^T s_t) + c_t \\log(\\Delta t) + c_t \\log(R) - \\log(c_t!) - \\exp(w^T s_t) \\cdot \\Delta t \\cdot R \\right) \\\\\n",
    "            &= \\sum_t \\left( c_t \\left((w^T s_t) + \\log(\\Delta t) + \\log(R) \\right) - \\log(c_t!) - \\exp(w^T s_t) \\cdot \\Delta t \\cdot R \\right) \\\\\n",
    "\\\\\n",
    "\\frac{dL(\\omega)}{d\\omega}  &= \\sum_t \\left( c_t \\cdot s_t - s_t \\cdot \\exp(w^T s_t) \\cdot \\Delta t \\cdot R \\right) \\\\\n",
    "                            &= \\sum_t \\left( s_t (c_t - \\exp(w^T s_t) \\cdot \\Delta t \\cdot R) \\right) \\\\\n",
    "                            &= \\sum_t \\left( s_t (c_t - r_t) \\right)\n",
    "\\end{align*}$$"
   ]
  },
  {
   "cell_type": "markdown",
   "metadata": {},
   "source": [
    "### Generate data"
   ]
  },
  {
   "cell_type": "code",
   "execution_count": null,
   "metadata": {},
   "outputs": [
    {
     "data": {
      "text/plain": [
       "Text(0.5, 1.0, 'Gaussian RF')"
      ]
     },
     "execution_count": null,
     "metadata": {},
     "output_type": "execute_result"
    },
    {
     "data": {
      "image/png": "[encoded data removed]",
      "text/plain": [
       "<Figure size 500x500 with 1 Axes>"
      ]
     },
     "metadata": {},
     "output_type": "display_data"
    }
   ],
   "source": [
    "def gen_gauss_rf(D: int, width: float, center: tuple = (0, 0)) -> np.ndarray:\n",
    "    \"\"\"\n",
    "    Generate a Gaussian receptive field.\n",
    "\n",
    "    Args:\n",
    "        D (int): Size of the receptive field (DxD).\n",
    "        width (float): Width parameter of the Gaussian.\n",
    "        center (tuple, optional): Center coordinates of the receptive field. Defaults to (0, 0).\n",
    "\n",
    "    Returns:\n",
    "        np.ndarray: Gaussian receptive field.\n",
    "    \"\"\"\n",
    "\n",
    "    sz = (D - 1) / 2\n",
    "    x, y = np.meshgrid(np.arange(-sz, sz + 1), np.arange(-sz, sz + 1))\n",
    "    x = x + center[0]\n",
    "    y = y + center[1]\n",
    "    w = np.exp(-(x**2 / width + y**2 / width))\n",
    "    w = w / np.sum(w.flatten())\n",
    "\n",
    "    return w\n",
    "\n",
    "\n",
    "w = gen_gauss_rf(15, 7, (1, 1))\n",
    "\n",
    "vlim = np.max(np.abs(w))\n",
    "fig, ax = plt.subplots(1, 1, figsize=(5, 5))\n",
    "ax.imshow(w, cmap=\"bwr\", vmin=-vlim, vmax=vlim)\n",
    "ax.set_title(\"Gaussian RF\")"
   ]
  },
  {
   "cell_type": "code",
   "execution_count": null,
   "metadata": {},
   "outputs": [],
   "source": [
    "def sample_lnp(\n",
    "    w: np.array, nT: int, dt: float, R: float, v: float, random_seed: int = 10\n",
    "):\n",
    "    \"\"\"Generate samples from an instantaneous LNP model neuron with\n",
    "    receptive field kernel w.\n",
    "\n",
    "    Parameters\n",
    "    ----------\n",
    "\n",
    "    w: np.array, (Dx * Dy, )\n",
    "        (flattened) receptive field kernel.\n",
    "\n",
    "    nT: int\n",
    "        number of time steps\n",
    "\n",
    "    dt: float\n",
    "        duration of a frame in s\n",
    "\n",
    "    R: float\n",
    "        rate parameter\n",
    "\n",
    "    v: float\n",
    "        variance of the flattened stimulus array\n",
    "\n",
    "    random_seed: int\n",
    "        seed for random number generator\n",
    "\n",
    "    Returns\n",
    "    -------\n",
    "\n",
    "    c: np.array, (nT, )\n",
    "        sampled spike counts in time bins\n",
    "\n",
    "    r: np.array, (nT, )\n",
    "        mean rate in time bins\n",
    "\n",
    "    s: np.array, (Dx * Dy, nT)\n",
    "        stimulus frames used\n",
    "\n",
    "    Note\n",
    "    ----\n",
    "\n",
    "    See equations in task description above for a precise definition\n",
    "    of the individual parameters.\n",
    "\n",
    "    \"\"\"\n",
    "\n",
    "    rng = np.random.default_rng(random_seed)\n",
    "\n",
    "    # insert your code here\n",
    "\n",
    "    # create stimulus frames from uncorrelated checkerboard noise\n",
    "    s = rng.normal(0, np.sqrt(v), (w.size, nT))\n",
    "    print(\"shape s (Dx * Dy, nT): \", s.shape)\n",
    "\n",
    "    # compute the mean rate in time bins\n",
    "    r = np.exp(np.dot(w, s)) * dt * R\n",
    "    print(\"shape r (nT,): \", r.shape)\n",
    "\n",
    "    # draw spike counts from a Poisson distribution\n",
    "    c = rng.poisson(r)\n",
    "    print(\"shape c (nT,): \", c.shape)\n",
    "\n",
    "    # ------------------------------------------------\n",
    "    # Generate samples from an instantaneous LNP model\n",
    "    # neuron with receptive field kernel w. (0.5 pts)\n",
    "    # ------------------------------------------------\n",
    "\n",
    "    return c, r, s"
   ]
  },
  {
   "cell_type": "code",
   "execution_count": null,
   "metadata": {},
   "outputs": [
    {
     "name": "stdout",
     "output_type": "stream",
     "text": [
      "||w||:  1.0\n",
      "shape s (Dx * Dy, nT):  (225, 1000)\n",
      "shape r (nT,):  (1000,)\n",
      "shape c (nT,):  (1000,)\n"
     ]
    }
   ],
   "source": [
    "D = 15  # number of pixels\n",
    "nT = 1000  # number of time bins\n",
    "dt = 0.1  # bins of 100 ms\n",
    "R = 50  # firing rate in Hz\n",
    "v = 20  # stimulus variance\n",
    "\n",
    "w = gen_gauss_rf(D, 7, (1, 1))\n",
    "w = w.flatten()\n",
    "\n",
    "print(\"||w||: \", np.sum(w))\n",
    "\n",
    "c, r, s = sample_lnp(w, nT, dt, R, v)"
   ]
  },
  {
   "cell_type": "markdown",
   "metadata": {},
   "source": [
    "Plot the stimulus for one frame, the cell's response over time and the spike count vs firing rate."
   ]
  },
  {
   "cell_type": "code",
   "execution_count": null,
   "metadata": {},
   "outputs": [
    {
     "data": {
      "image/png": "[encoded data removed]",
      "text/plain": [
       "<Figure size 1500x400 with 3 Axes>"
      ]
     },
     "metadata": {},
     "output_type": "display_data"
    }
   ],
   "source": [
    "mosaic = mosaic = [[\"stim\", \"responses\", \"count/rate\"]]\n",
    "\n",
    "fig, ax = plt.subplot_mosaic(mosaic=mosaic, figsize=(15, 4))\n",
    "# -----------------------------------------------------------------------------------------------------------\n",
    "# Plot the stimulus for one frame, the cell's responses over time and spike count vs firing rate (0.5 points)\n",
    "# -----------------------------------------------------------------------------------------------------------\n",
    "\n",
    "# plot the stimulus for one frame\n",
    "ax[\"stim\"].imshow(s[:, 0].reshape(D, D), cmap=\"gray\")\n",
    "ax[\"stim\"].set_title(\"Stimulus for one frame\")\n",
    "\n",
    "# plot the cell's responses over time\n",
    "ax[\"responses\"].plot(c)\n",
    "ax[\"responses\"].set_title(\"Cell's responses over time\")\n",
    "ax[\"responses\"].set_xlabel(\"Time\")\n",
    "ax[\"responses\"].set_ylabel(\"Spike count\")\n",
    "\n",
    "# plot spike count vs firing rate\n",
    "ax[\"count/rate\"].plot(r, c, \".\")\n",
    "ax[\"count/rate\"].set_xlabel(\"Firing rate\")\n",
    "ax[\"count/rate\"].set_ylabel(\"Spike count\")\n",
    "\n",
    "# TODO make plots prettier\n",
    "\n",
    "plt.show()"
   ]
  },
  {
   "cell_type": "markdown",
   "metadata": {},
   "source": [
    "### Implementation \n",
    "\n",
    "Implement the negative log-likelihood of the LNP and its gradient with respect to the receptive field using the simplified equations you calculated earlier _(0.5 pts)_\n",
    "\n",
    "$$\\begin{align*}\n",
    "-L(\\omega)   &= -\\sum_t \\left( c_t \\log(r_t) - \\log(c_t!) - r_t \\right) \\\\\n",
    "\\\\\n",
    "-\\frac{dL(\\omega)}{d\\omega}  &= -\\sum_t \\left( s_t (r_t - c_t) \\right)\n",
    "\\end{align*}$$"
   ]
  },
  {
   "cell_type": "code",
   "execution_count": null,
   "metadata": {},
   "outputs": [],
   "source": [
    "def negloglike_lnp(\n",
    "    w: np.array, c: np.array, s: np.array, dt: float = 0.1, R: float = 50\n",
    ") -> float:\n",
    "    \"\"\"Implements the negative (!) log-likelihood of the LNP model\n",
    "\n",
    "    Parameters\n",
    "    ----------\n",
    "\n",
    "    w: np.array, (Dx * Dy, )\n",
    "      current receptive field\n",
    "\n",
    "    c: np.array, (nT, )\n",
    "      spike counts\n",
    "\n",
    "    s: np.array, (Dx * Dy, nT)\n",
    "      stimulus matrix\n",
    "\n",
    "\n",
    "    Returns\n",
    "    -------\n",
    "\n",
    "    f: float\n",
    "      function value of the negative log likelihood at w\n",
    "\n",
    "    \"\"\"\n",
    "\n",
    "    # ------------------------------------------------\n",
    "    # Implement the negative log-likelihood of the LNP\n",
    "    # ------------------------------------------------\n",
    "\n",
    "    # compute dot product of w and s\n",
    "    ws = np.dot(w, s)\n",
    "    # compute the mean rate in time bins\n",
    "    r = np.exp(ws) * dt * R\n",
    "\n",
    "    # compute the negative log likelihood\n",
    "    f = -np.sum(c * np.log(r) - np.log(sp.factorial(c)) - r)\n",
    "\n",
    "    return f\n",
    "\n",
    "\n",
    "def deriv_negloglike_lnp(\n",
    "    w: np.array, c: np.array, s: np.array, dt: float = 0.1, R: float = 50\n",
    ") -> np.array:\n",
    "    \"\"\"Implements the gradient of the negative log-likelihood of the LNP model\n",
    "\n",
    "    Parameters\n",
    "    ----------\n",
    "\n",
    "    see negloglike_lnp\n",
    "\n",
    "    Returns\n",
    "    -------\n",
    "\n",
    "    df: np.array, (Dx * Dy, )\n",
    "      gradient of the negative log likelihood with respect to w\n",
    "\n",
    "    \"\"\"\n",
    "\n",
    "    # --------------------------------------------------------------\n",
    "    # Implement the gradient with respect to the receptive field `w`\n",
    "    # --------------------------------------------------------------\n",
    "\n",
    "    # compute dot product of w and s\n",
    "    ws = np.dot(w, s)\n",
    "    # compute the mean rate in time bins\n",
    "    r = np.exp(ws) * dt * R\n",
    "    # compute the gradient\n",
    "    df = np.dot(s, (r - c))  # switched r and c to match negative log likelihood\n",
    "\n",
    "    return df"
   ]
  },
  {
   "cell_type": "markdown",
   "metadata": {},
   "source": [
    "The helper function `check_grad` in `scipy.optimize` can help you to make sure your equations and implementations are correct. It might be helpful to validate the gradient before you run your optimizer."
   ]
  },
  {
   "cell_type": "code",
   "execution_count": null,
   "metadata": {},
   "outputs": [
    {
     "name": "stdout",
     "output_type": "stream",
     "text": [
      "Negative log likelihood: 2251.962531737988\n",
      "Error of gradient: 0.015168260881479895\n"
     ]
    }
   ],
   "source": [
    "# Check gradient\n",
    "# insert your code here\n",
    "\n",
    "# compute negative log likelihood and gradient\n",
    "f = negloglike_lnp(w, c, s)\n",
    "df = deriv_negloglike_lnp(w, c, s)\n",
    "\n",
    "print(f\"Negative log likelihood: {f}\")\n",
    "# print(f\"Gradient: {df}\")\n",
    "\n",
    "# check gradient\n",
    "err = opt.check_grad(negloglike_lnp, deriv_negloglike_lnp, w, c, s)\n",
    "print(f\"Error of gradient: {err}\")"
   ]
  },
  {
   "cell_type": "markdown",
   "metadata": {},
   "source": [
    "Fit receptive field maximizing the log likelihood.\n",
    "\n",
    "The scipy.optimize package also has suitable functions for optimization. If you generate a large number of samples, the fitted receptive field will look more similar to the true receptive field. With more samples, the optimization takes longer, however."
   ]
  },
  {
   "cell_type": "code",
   "execution_count": null,
   "metadata": {},
   "outputs": [
    {
     "name": "stdout",
     "output_type": "stream",
     "text": [
      "RUNNING THE L-BFGS-B CODE\n",
      "\n",
      "           * * *\n",
      "\n",
      "Machine precision = 2.220D-16\n",
      " N =          225     M =           10\n",
      "\n",
      "At X0         0 variables are exactly at the bounds\n",
      "\n",
      "At iterate    0    f=  2.25196D+03    |proj g|=  1.11155D+03\n",
      "\n",
      "At iterate    1    f=  2.16549D+03    |proj g|=  4.43129D+02\n",
      "\n",
      "At iterate    2    f=  2.14745D+03    |proj g|=  2.17520D+02\n",
      "\n",
      "At iterate    3    f=  2.14109D+03    |proj g|=  1.60829D+02\n",
      "\n",
      "At iterate    4    f=  2.13988D+03    |proj g|=  1.49319D+02\n",
      "\n",
      "At iterate    5    f=  2.13900D+03    |proj g|=  5.48069D+01\n",
      "\n",
      "At iterate    6    f=  2.13877D+03    |proj g|=  4.25092D+01\n",
      "\n",
      "At iterate    7    f=  2.13862D+03    |proj g|=  2.64486D+01\n",
      "\n",
      "At iterate    8    f=  2.13856D+03    |proj g|=  1.42929D+01\n",
      "\n",
      "At iterate    9    f=  2.13855D+03    |proj g|=  6.24803D+00\n",
      "\n",
      "At iterate   10    f=  2.13855D+03    |proj g|=  3.12798D+00\n",
      "\n",
      "At iterate   11    f=  2.13855D+03    |proj g|=  1.95236D+00\n",
      "\n",
      "At iterate   12    f=  2.13855D+03    |proj g|=  1.95342D+00\n",
      "\n",
      "At iterate   13    f=  2.13855D+03    |proj g|=  1.24424D+00\n",
      "\n",
      "At iterate   14    f=  2.13855D+03    |proj g|=  3.97919D-01\n",
      "\n",
      "At iterate   15    f=  2.13855D+03    |proj g|=  3.21632D-01\n",
      "\n",
      "At iterate   16    f=  2.13855D+03    |proj g|=  1.87162D-01\n",
      "\n",
      "At iterate   17    f=  2.13855D+03    |proj g|=  1.68869D-01\n",
      "success:  True\n",
      "\n",
      "           * * *\n",
      "\n",
      "Tit   = total number of iterations\n",
      "Tnf   = total number of function evaluations\n",
      "Tnint = total number of segments explored during Cauchy searches\n",
      "Skip  = number of BFGS updates skipped\n",
      "Nact  = number of active bounds at final generalized Cauchy point\n",
      "Projg = norm of the final projected gradient\n",
      "F     = final function value\n",
      "\n",
      "           * * *\n",
      "\n",
      "   N    Tit     Tnf  Tnint  Skip  Nact     Projg        F\n",
      "  225     17     22      1     0     0   1.689D-01   2.139D+03\n",
      "  F =   2138.5507087301776     \n",
      "\n",
      "CONVERGENCE: REL_REDUCTION_OF_F_<=_FACTR*EPSMCH             \n"
     ]
    },
    {
     "name": "stderr",
     "output_type": "stream",
     "text": [
      " This problem is unconstrained.\n"
     ]
    }
   ],
   "source": [
    "# insert your code here\n",
    "\n",
    "# ------------------------------------------\n",
    "# Estimate the receptive field by maximizing\n",
    "# the log-likelihood (or more commonly,\n",
    "# minimizing the negative log-likelihood).\n",
    "#\n",
    "# Tips: use scipy.optimize.minimize(). (1 pt)\n",
    "# ------------------------------------------\n",
    "\n",
    "result = opt.minimize(\n",
    "    negloglike_lnp,\n",
    "    w,\n",
    "    args=(c, s),\n",
    "    jac=deriv_negloglike_lnp,\n",
    "    method=\"L-BFGS-B\",  # Quasi-Newton Optimizer (memory efficient)\n",
    "    options={\"disp\": True},  # print convergence messages\n",
    ")\n",
    "\n",
    "print(\"success: \", result.success)"
   ]
  },
  {
   "cell_type": "code",
   "execution_count": null,
   "metadata": {},
   "outputs": [
    {
     "data": {
      "image/png": "[encoded data removed]",
      "text/plain": [
       "<Figure size 1200x500 with 2 Axes>"
      ]
     },
     "metadata": {},
     "output_type": "display_data"
    }
   ],
   "source": [
    "# insert your code here\n",
    "\n",
    "# ------------------------------------\n",
    "# Plot the ground truth and estimated\n",
    "# `w` side by side. (0.5 pts)\n",
    "# ------------------------------------\n",
    "\n",
    "mosaic = [[\"True\", \"Estimated\"]]\n",
    "fig, ax = plt.subplot_mosaic(mosaic=mosaic, figsize=(12, 5))\n",
    "\n",
    "# make sure to add a colorbar. 'bwr' is a reasonable choice for the cmap. # TODO\n",
    "\n",
    "ax[\"True\"].imshow(w.reshape(D, D), cmap=\"bwr\")\n",
    "ax[\"True\"].set_title(\"True\")\n",
    "\n",
    "ax[\"Estimated\"].imshow(result.x.reshape(D, D), cmap=\"bwr\")\n",
    "ax[\"Estimated\"].set_title(\"Estimated\")\n",
    "\n",
    "# TODO make plots prettier\n",
    "\n",
    "plt.show()"
   ]
  },
  {
   "cell_type": "markdown",
   "metadata": {},
   "source": [
    "## Task 2: Apply to real neuron\n",
    "\n",
    "Download the dataset for this task from Ilias (`nds_cl_5_data.mat`). It contains a stimulus matrix (`s`) in the same format you used before and the spike times. In addition, there is an array called `trigger` which contains the times at which the stimulus frames were swapped.\n",
    "\n",
    "* Generate an array of spike counts at the same temporal resolution as the stimulus frames\n",
    "* Fit the receptive field with time lags of 0 to 4 frames. Fit them one lag at a time (the ML fit is very sensitive to the number of parameters estimated and will not produce good results if you fit the full space-time receptive field for more than two time lags at once). \n",
    "* Plot the resulting filters\n",
    "\n",
    "*Grading: 2 pts*\n"
   ]
  },
  {
   "cell_type": "code",
   "execution_count": null,
   "metadata": {},
   "outputs": [],
   "source": [
    "var = io.loadmat(\"../data/nds_cl_5_data.mat\")\n",
    "\n",
    "# t contains the spike times of the neuron\n",
    "t = var[\"DN_spiketimes\"].flatten()\n",
    "\n",
    "# trigger contains the times at which the stimulus flipped\n",
    "trigger = var[\"DN_triggertimes\"].flatten()\n",
    "\n",
    "# contains the stimulus movie with black and white pixels\n",
    "s = var[\"DN_stim\"]\n",
    "s = s.reshape((300, 1500))  # the shape of each frame is (20, 15)\n",
    "s = s[:, 1 : len(trigger)]"
   ]
  },
  {
   "cell_type": "code",
   "execution_count": null,
   "metadata": {},
   "outputs": [
    {
     "name": "stdout",
     "output_type": "stream",
     "text": [
      "[0.00000000e+00 2.13999939e-01 3.94400024e-01 ... 3.20177291e+02\n",
      " 3.20423209e+02 3.20612896e+02]\n"
     ]
    }
   ],
   "source": [
    "print(trigger)"
   ]
  },
  {
   "cell_type": "markdown",
   "metadata": {},
   "source": [
    "Create vector of spike counts"
   ]
  },
  {
   "cell_type": "code",
   "execution_count": null,
   "metadata": {},
   "outputs": [],
   "source": [
    "# insert your code here\n",
    "\n",
    "# ------------------------------------------\n",
    "# Bin the spike counts at the same temporal\n",
    "# resolution as the stimulus (0.5 pts)\n",
    "# ------------------------------------------"
   ]
  },
  {
   "cell_type": "markdown",
   "metadata": {},
   "source": [
    "Fit receptive field for each frame separately"
   ]
  },
  {
   "cell_type": "code",
   "execution_count": null,
   "metadata": {},
   "outputs": [],
   "source": [
    "# insert your code here\n",
    "\n",
    "# ------------------------------------------\n",
    "# Fit the receptive field with time lags of\n",
    "# 0 to 4 frames separately (1 pt)\n",
    "#\n",
    "# The final receptive field (`w_hat`) should\n",
    "# be in the shape of (Dx * Dy, 5)\n",
    "# ------------------------------------------\n",
    "\n",
    "# specify the time lags\n",
    "delta = [0, 1, 2, 3, 4]\n",
    "\n",
    "# fit for each delay"
   ]
  },
  {
   "cell_type": "markdown",
   "metadata": {},
   "source": [
    "Plot the frames one by one"
   ]
  },
  {
   "cell_type": "code",
   "execution_count": null,
   "metadata": {},
   "outputs": [],
   "source": [
    "# insert your code here\n",
    "\n",
    "# --------------------------------------------\n",
    "# Plot all 5 frames of the fitted RFs (0.5 pt)\n",
    "# --------------------------------------------\n",
    "\n",
    "fig, ax = plt.subplot_mosaic(mosaic=[delta], figsize=(10, 4), constrained_layout=True)"
   ]
  },
  {
   "cell_type": "markdown",
   "metadata": {},
   "source": [
    "## Task 3: Separate space/time components\n",
    "\n",
    "The receptive field of the neuron can be decomposed into a spatial and a temporal component. Because of the way we computed them, both are independent and the resulting spatio-temporal component is thus called separable. As discussed in the lecture, you can use singular-value decomposition to separate these two: \n",
    "\n",
    "$$\n",
    "W = u_1 s_1 v_1^T\n",
    "$$\n",
    "\n",
    "Here $u_1$ and $v_1$ are the singular vectors belonging to the 1st singular value $s_1$ and provide a long rank approximation of W, the array with all receptive fields. It is important that the mean is subtracted before computing the SVD.  \n",
    "\n",
    "Plot the first temporal component and the first spatial component. You can use a Python implementation of SVD. The results can look a bit puzzling, because the sign of the components is arbitrary.\n",
    "\n",
    "*Grading: 1 pts*"
   ]
  },
  {
   "cell_type": "code",
   "execution_count": null,
   "metadata": {},
   "outputs": [],
   "source": [
    "# insert your code here\n",
    "\n",
    "# --------------------------------------------\n",
    "# Apply SVD to the fitted receptive field,\n",
    "# you can use either numpy or sklearn (0.5 pt)\n",
    "# --------------------------------------------\n",
    "\n",
    "# shape of w_hat: (300,5).\n",
    "# subtract mean along axis=1 (time) since for every timelag the RF is estimated independently\n",
    "\n",
    "# -------------------------------------------------\n",
    "# Plot the spatial and temporal components (0.5 pt)\n",
    "# -------------------------------------------------\n",
    "\n",
    "fig, ax = plt.subplot_mosaic(\n",
    "    mosaic=[[\"Spatial\", \"Temporal\"]], figsize=(10, 4), constrained_layout=True\n",
    ")\n",
    "# add plot"
   ]
  },
  {
   "cell_type": "markdown",
   "metadata": {},
   "source": [
    "## Task 4: Regularized receptive field\n",
    "\n",
    "As you can see, maximum likelihood estimation of linear receptive fields can be quite noisy, if little data is available. \n",
    "\n",
    "To improve on this, one can regularize the receptive field vector and a term to the cost function\n",
    "\n",
    "\n",
    "$$\n",
    "C(w) = L(w) + \\alpha ||w||_p^2\n",
    "$$\n",
    "\n",
    "Here, the $p$ indicates which norm of $w$ is used: for $p=2$, this is shrinks all coefficient equally to zero; for $p=1$, it favors sparse solutions, a penality also known as lasso. Because the 1-norm is not smooth at zero, it is not as straightforward to implement \"by hand\". \n",
    "\n",
    "Use a toolbox with an implementation of the lasso-penalization and fit the receptive field. Possibly, you will have to try different values of the regularization parameter $\\alpha$. Plot your estimates from above and the lasso-estimates. How do they differ? What happens when you increase or decrease $alpha$?\n",
    "\n",
    "If you want to keep the Poisson noise model, you can use the implementation in [`pyglmnet`](https://pypi.python.org/pypi/pyglmnet). Otherwise, you can also resort to the linear model from `sklearn` which assumes Gaussian noise (which in my hands was much faster).\n",
    "\n",
    "*Grading: 2 pts*\n"
   ]
  },
  {
   "cell_type": "code",
   "execution_count": null,
   "metadata": {},
   "outputs": [],
   "source": [
    "from sklearn import linear_model\n",
    "\n",
    "# insert your code here\n",
    "\n",
    "# ------------------------------------------\n",
    "# Fit the receptive field with time lags of\n",
    "# 0 to 4 frames separately (the same as before)\n",
    "# with sklern or pyglmnet (1 pt)\n",
    "# ------------------------------------------\n",
    "\n",
    "delta = [0, 1, 2, 3, 4]"
   ]
  },
  {
   "cell_type": "code",
   "execution_count": null,
   "metadata": {},
   "outputs": [],
   "source": [
    "# ------------------------------------------\n",
    "# plot the estimated receptive fields (1 pt)\n",
    "# ------------------------------------------\n",
    "\n",
    "fig, ax = plt.subplot_mosaic(mosaic=[delta], figsize=(10, 4), constrained_layout=True)\n",
    "# add plot"
   ]
  }
 ],
 "metadata": {
  "kernelspec": {
   "display_name": "python3",
   "language": "python",
   "name": "python3"
  }
 },
 "nbformat": 4,
 "nbformat_minor": 4
}
