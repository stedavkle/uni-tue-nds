{
 "cells": [
  {
   "cell_type": "markdown",
   "metadata": {},
   "source": [
    "_Neural Data Analysis_\n",
    "\n",
    "Lecturer: Jan Lause, Prof. Dr. Philipp Berens\n",
    "\n",
    "Tutors: Jonas Beck, Rita González Márquez, Fabio Seel\n",
    "\n",
    "Summer term 2024\n",
    "\n",
    "Name: Stephan Amann, Hannah Blaurock, David Kleindiek\n",
    "\n",
    "# Coding Lab 5\n",
    "\n"
   ]
  },
  {
   "cell_type": "code",
   "execution_count": null,
   "metadata": {},
   "outputs": [
    {
     "name": "stdout",
     "output_type": "stream",
     "text": [
      "The jupyter_black extension is already loaded. To reload it, use:\n",
      "  %reload_ext jupyter_black\n",
      "The watermark extension is already loaded. To reload it, use:\n",
      "  %reload_ext watermark\n",
      "Last updated: 2024-06-06 12:36:44CEST\n",
      "\n",
      "Python implementation: CPython\n",
      "Python version       : 3.10.14\n",
      "IPython version      : 8.24.0\n",
      "\n",
      "sklearn: 1.4.2\n",
      "\n",
      "matplotlib: 3.8.4\n",
      "scipy     : 1.13.0\n",
      "numpy     : 1.26.4\n",
      "\n",
      "Watermark: 2.4.3\n",
      "\n"
     ]
    }
   ],
   "source": [
    "import matplotlib.pyplot as plt\n",
    "import numpy as np\n",
    "import scipy.optimize as opt\n",
    "import scipy.io as io\n",
    "import scipy.special as sp  # for array factorial and log function\n",
    "\n",
    "%load_ext jupyter_black\n",
    "\n",
    "%load_ext watermark\n",
    "%watermark --time --date --timezone --updated --python --iversions --watermark -p sklearn\n",
    "\n",
    "%matplotlib inline\n",
    "plt.style.use(\"../matplotlib_style.txt\")"
   ]
  },
  {
   "cell_type": "markdown",
   "metadata": {},
   "source": [
    "## Task 1: Fit RF on simulated data\n",
    "\n",
    "We will start  with toy data generated from an LNP model neuron to make sure everything works right. The model LNP neuron consists of one Gaussian linear filter, an exponential nonlinearity and a Poisson spike count generator. We look at it in discrete time with time bins of width $\\delta t$. The model is:\n",
    "\n",
    "$$\n",
    "c_t \\sim Poisson(r_t)\\\\\n",
    "r_t = \\exp(w^T s_t) \\cdot \\Delta t \\cdot R\n",
    "$$\n",
    "\n",
    "Here, $c_t$ is the spike count in time window $t$ of length $\\Delta t$, $s_t$ is the stimulus and $w$ is the receptive field of the neuron. The receptive field variable `w` is 15 × 15 pixels and normalized to $||w||=1$. A stimulus frame is a 15 × 15 pixel image, for which we use uncorrelated checkerboard noise. R can be used to bring the firing rate into the right regime (e.g. by setting $R=50$).      \n",
    "\n",
    "For computational ease, we reformat the stimulus and the receptive field in a 225 by 1 array. The function ```sample_lnp``` can be used to generate data from this model. It returns a spike count vector `c` with samples from the model (dimensions: 1 by nT = $T/\\Delta t$), a stimulus matrix `s` (dimensions: 225 × nT) and the mean firing rate `r` (dimensions: nT × 1). \n",
    "\n",
    "Here we assume that the receptive field influences the spike count instantaneously just as in the above equations. Implement a Maximum Likelihood approach to fit the receptive field. \n",
    "\n",
    "To this end simplify and implement the log-likelihood function $L(w)$ and its gradient $\\frac{L(w)}{dw}$ with respect to $w$ (`negloglike_lnp`). The log-likelihood of the model is\n",
    "$$L(w) = \\log \\prod_t \\frac{r_t^{c_t}}{c_t!}\\exp(-r_t).$$\n",
    "\n",
    "Plot the true receptive field, a stimulus frame, the spike counts and the estimated receptive field. \n",
    "\n",
    "*Grading: 2 pts (calculations) + 3 pts (implementation)*\n"
   ]
  },
  {
   "cell_type": "markdown",
   "metadata": {},
   "source": [
    "### Calculations\n",
    "_You can add your calculations in_ $\\LaTeX$ _here_.\n",
    "\n",
    "$$\\begin{align*}\n",
    "L(\\omega)   &= \\sum_t \\left( \\log(\\frac{r_t^{c_t}}{c_t!}) + \\log(\\exp(-r_t)) \\right) \\\\\n",
    "            &= \\sum_t \\left( \\log(r_t^{c_t}) - \\log(c_t!) + \\log(\\exp(-r_t)) \\right) \\\\\n",
    "            &= \\sum_t \\left( c_t \\log(r_t) - \\log(c_t!) - r_t \\right) \\\\\n",
    "            &= \\sum_t \\left( c_t \\log(\\exp(w^T s_t) \\cdot \\Delta t \\cdot R) - \\log(c_t!) - \\exp(w^T s_t) \\cdot \\Delta t \\cdot R \\right) & \\text{// insert $r_t$} \\\\\n",
    "            &= \\sum_t \\left( c_t (w^T s_t) + c_t \\log(\\Delta t) + c_t \\log(R) - \\log(c_t!) - \\exp(w^T s_t) \\cdot \\Delta t \\cdot R \\right) \\\\\n",
    "            &= \\sum_t \\left( c_t \\left((w^T s_t) + \\log(\\Delta t) + \\log(R) \\right) - \\log(c_t!) - \\exp(w^T s_t) \\cdot \\Delta t \\cdot R \\right) \\\\\n",
    "\\\\\n",
    "\\frac{dL(\\omega)}{d\\omega}  &= \\sum_t \\left( c_t \\cdot s_t - s_t \\cdot \\exp(w^T s_t) \\cdot \\Delta t \\cdot R \\right) \\\\\n",
    "                            &= \\sum_t \\left( s_t (c_t - \\exp(w^T s_t) \\cdot \\Delta t \\cdot R) \\right)\n",
    "\\end{align*}$$"
   ]
  },
  {
   "cell_type": "markdown",
   "metadata": {},
   "source": [
    "### Generate data"
   ]
  },
  {
   "cell_type": "code",
   "execution_count": null,
   "metadata": {},
   "outputs": [
    {
     "data": {
      "text/plain": [
       "Text(0.5, 1.0, 'Gaussian RF')"
      ]
     },
     "execution_count": null,
     "metadata": {},
     "output_type": "execute_result"
    },
    {
     "data": {
      "image/png": "[encoded data removed]",
      "text/plain": [
       "<Figure size 500x500 with 1 Axes>"
      ]
     },
     "metadata": {},
     "output_type": "display_data"
    }
   ],
   "source": [
    "def gen_gauss_rf(D: int, width: float, center: tuple = (0, 0)) -> np.ndarray:\n",
    "    \"\"\"\n",
    "    Generate a Gaussian receptive field.\n",
    "\n",
    "    Args:\n",
    "        D (int): Size of the receptive field (DxD).\n",
    "        width (float): Width parameter of the Gaussian.\n",
    "        center (tuple, optional): Center coordinates of the receptive field. Defaults to (0, 0).\n",
    "\n",
    "    Returns:\n",
    "        np.ndarray: Gaussian receptive field.\n",
    "    \"\"\"\n",
    "\n",
    "    sz = (D - 1) / 2\n",
    "    x, y = np.meshgrid(np.arange(-sz, sz + 1), np.arange(-sz, sz + 1))\n",
    "    x = x + center[0]\n",
    "    y = y + center[1]\n",
    "    w = np.exp(-(x**2 / width + y**2 / width))\n",
    "    w = w / np.sum(w.flatten())\n",
    "\n",
    "    return w\n",
    "\n",
    "\n",
    "w = gen_gauss_rf(15, 7, (1, 1))\n",
    "\n",
    "vlim = np.max(np.abs(w))\n",
    "fig, ax = plt.subplots(1, 1, figsize=(5, 5))\n",
    "ax.imshow(w, cmap=\"bwr\", vmin=-vlim, vmax=vlim)\n",
    "ax.set_title(\"Gaussian RF\")"
   ]
  },
  {
   "cell_type": "code",
   "execution_count": null,
   "metadata": {},
   "outputs": [],
   "source": [
    "def sample_lnp(\n",
    "    w: np.array, nT: int, dt: float, R: float, v: float, random_seed: int = 10\n",
    "):\n",
    "    \"\"\"Generate samples from an instantaneous LNP model neuron with\n",
    "    receptive field kernel w.\n",
    "\n",
    "    Parameters\n",
    "    ----------\n",
    "\n",
    "    w: np.array, (Dx * Dy, )\n",
    "        (flattened) receptive field kernel.\n",
    "\n",
    "    nT: int\n",
    "        number of time steps\n",
    "\n",
    "    dt: float\n",
    "        duration of a frame in s\n",
    "\n",
    "    R: float\n",
    "        rate parameter\n",
    "\n",
    "    v: float\n",
    "        variance of the flattened stimulus array\n",
    "\n",
    "    random_seed: int\n",
    "        seed for random number generator\n",
    "\n",
    "    Returns\n",
    "    -------\n",
    "\n",
    "    c: np.array, (nT, )\n",
    "        sampled spike counts in time bins\n",
    "\n",
    "    r: np.array, (nT, )\n",
    "        mean rate in time bins\n",
    "\n",
    "    s: np.array, (Dx * Dy, nT)\n",
    "        stimulus frames used\n",
    "\n",
    "    Note\n",
    "    ----\n",
    "\n",
    "    See equations in task description above for a precise definition\n",
    "    of the individual parameters.\n",
    "\n",
    "    \"\"\"\n",
    "\n",
    "    rng = np.random.default_rng(random_seed)\n",
    "\n",
    "    # insert your code here\n",
    "\n",
    "    # create stimulus frames from uncorrelated checkerboard noise\n",
    "    s = rng.normal(0, v, (w.size, nT))  # TODO do i have to set values to 0 or 1?\n",
    "    # normalize s\n",
    "    s = s / np.sum(s, axis=0)\n",
    "    print(\"shape s (Dx * Dy, nT): \", s.shape)\n",
    "\n",
    "    # compute the mean rate in time bins\n",
    "    r = np.exp(np.dot(w, s)) * dt * R\n",
    "    print(\"shape r (nT,): \", r.shape)\n",
    "    print(\"r: \", r[:10])\n",
    "\n",
    "    # draw spike counts from a Poisson distribution\n",
    "    c = rng.poisson(r)\n",
    "    print(\"shape c (nT,): \", c.shape)\n",
    "\n",
    "    # ------------------------------------------------\n",
    "    # Generate samples from an instantaneous LNP model\n",
    "    # neuron with receptive field kernel w. (0.5 pts)\n",
    "    # ------------------------------------------------\n",
    "\n",
    "    return c, r, s"
   ]
  },
  {
   "cell_type": "code",
   "execution_count": null,
   "metadata": {},
   "outputs": [
    {
     "name": "stdout",
     "output_type": "stream",
     "text": [
      "||w||:  1.0\n",
      "shape s (Dx * Dy, nT):  (225, 1000)\n",
      "shape r (nT,):  (1000,)\n",
      "r:  [4.88367185 5.04405751 4.96816612 5.08996167 5.17068061 5.18826576\n",
      " 5.19309225 5.05635196 5.24858028 5.01740441]\n",
      "shape c (nT,):  (1000,)\n"
     ]
    }
   ],
   "source": [
    "D = 15  # number of pixels\n",
    "nT = 1000  # number of time bins\n",
    "dt = 0.1  # bins of 100 ms\n",
    "R = 50  # firing rate in Hz\n",
    "v = 20  # stimulus variance\n",
    "\n",
    "w = gen_gauss_rf(D, 7, (1, 1))\n",
    "w = w.flatten()\n",
    "\n",
    "print(\"||w||: \", np.sum(w))\n",
    "\n",
    "c, r, s = sample_lnp(w, nT, dt, R, v)"
   ]
  },
  {
   "cell_type": "markdown",
   "metadata": {},
   "source": [
    "Plot the stimulus for one frame, the cell's response over time and the spike count vs firing rate."
   ]
  },
  {
   "cell_type": "code",
   "execution_count": null,
   "metadata": {},
   "outputs": [
    {
     "data": {
      "image/png": "[encoded data removed]",
      "text/plain": [
       "<Figure size 1500x400 with 3 Axes>"
      ]
     },
     "metadata": {},
     "output_type": "display_data"
    }
   ],
   "source": [
    "mosaic = mosaic = [[\"stim\", \"responses\", \"count/rate\"]]\n",
    "\n",
    "fig, ax = plt.subplot_mosaic(mosaic=mosaic, figsize=(15, 4))\n",
    "# -----------------------------------------------------------------------------------------------------------\n",
    "# Plot the stimulus for one frame, the cell's responses over time and spike count vs firing rate (0.5 points)\n",
    "# -----------------------------------------------------------------------------------------------------------\n",
    "\n",
    "# plot the stimulus for one frame\n",
    "ax[\"stim\"].imshow(s[:, 0].reshape(D, D), cmap=\"gray\")\n",
    "ax[\"stim\"].set_title(\"Stimulus for one frame\")\n",
    "\n",
    "# plot the cell's responses over time\n",
    "ax[\"responses\"].plot(c)\n",
    "ax[\"responses\"].set_title(\"Cell's responses over time\")\n",
    "ax[\"responses\"].set_xlabel(\"Time\")\n",
    "ax[\"responses\"].set_ylabel(\"Spike count\")\n",
    "\n",
    "# plot spike count vs firing rate\n",
    "ax[\"count/rate\"].plot(r, c, \".\")\n",
    "ax[\"count/rate\"].set_xlabel(\"Firing rate\")\n",
    "ax[\"count/rate\"].set_ylabel(\"Spike count\")\n",
    "\n",
    "# TODO this seems to be entirely wrong\n",
    "\n",
    "plt.show()"
   ]
  },
  {
   "cell_type": "markdown",
   "metadata": {},
   "source": [
    "### Implementation \n",
    "\n",
    "Implement the negative log-likelihood of the LNP and its gradient with respect to the receptive field using the simplified equations you calculated earlier _(0.5 pts)_"
   ]
  },
  {
   "cell_type": "code",
   "execution_count": null,
   "metadata": {},
   "outputs": [],
   "source": [
    "def negloglike_lnp(\n",
    "    w: np.array, c: np.array, s: np.array, dt: float = 0.1, R: float = 50\n",
    ") -> float:\n",
    "    \"\"\"Implements the negative (!) log-likelihood of the LNP model\n",
    "\n",
    "    Parameters\n",
    "    ----------\n",
    "\n",
    "    w: np.array, (Dx * Dy, )\n",
    "      current receptive field\n",
    "\n",
    "    c: np.array, (nT, )\n",
    "      spike counts\n",
    "\n",
    "    s: np.array, (Dx * Dy, nT)\n",
    "      stimulus matrix\n",
    "\n",
    "\n",
    "    Returns\n",
    "    -------\n",
    "\n",
    "    f: float\n",
    "      function value of the negative log likelihood at w\n",
    "\n",
    "    \"\"\"\n",
    "\n",
    "    # ------------------------------------------------\n",
    "    # Implement the negative log-likelihood of the LNP\n",
    "    # ------------------------------------------------\n",
    "\n",
    "    # # compute dot product of w and s\n",
    "    # ws = np.dot(w, s)\n",
    "    # # compute the mean rate in time bins\n",
    "    # r = np.exp(ws) * dt * R\n",
    "\n",
    "    # # compute the negative log likelihood\n",
    "    # f = -np.sum(c * np.log(r) - np.log(sp.factorial(c)) - r)\n",
    "\n",
    "    f = 0\n",
    "    for t in range(c.size):\n",
    "        ws = np.dot(w, s[:, t])\n",
    "        r = np.exp(ws) * dt * R\n",
    "        f += c[t] * np.log(r) - np.log(sp.factorial(c[t])) - r\n",
    "\n",
    "    return -f\n",
    "\n",
    "\n",
    "def deriv_negloglike_lnp(\n",
    "    w: np.array, c: np.array, s: np.array, dt: float = 0.1, R: float = 50\n",
    ") -> np.array:\n",
    "    \"\"\"Implements the gradient of the negative log-likelihood of the LNP model\n",
    "\n",
    "    Parameters\n",
    "    ----------\n",
    "\n",
    "    see negloglike_lnp\n",
    "\n",
    "    Returns\n",
    "    -------\n",
    "\n",
    "    df: np.array, (Dx * Dy, )\n",
    "      gradient of the negative log likelihood with respect to w\n",
    "\n",
    "    \"\"\"\n",
    "\n",
    "    # --------------------------------------------------------------\n",
    "    # Implement the gradient with respect to the receptive field `w`\n",
    "    # --------------------------------------------------------------\n",
    "\n",
    "    # # compute dot product of w and s\n",
    "    # ws = np.dot(w, s)\n",
    "    # # compute the mean rate in time bins\n",
    "    # r = np.exp(ws) * dt * R\n",
    "    # # compute the gradient\n",
    "    # df = np.dot(s, (r - c))  # switched r and c to match negative log likelihood\n",
    "\n",
    "    df = np.zeros(w.size)\n",
    "    for t in range(c.size):\n",
    "        ws = np.dot(w, s[:, t])\n",
    "        r = np.exp(ws) * dt * R\n",
    "        df += s[:, t] * (r - c[t])\n",
    "\n",
    "    return -df"
   ]
  },
  {
   "cell_type": "markdown",
   "metadata": {},
   "source": [
    "The helper function `check_grad` in `scipy.optimize` can help you to make sure your equations and implementations are correct. It might be helpful to validate the gradient before you run your optimizer."
   ]
  },
  {
   "cell_type": "code",
   "execution_count": null,
   "metadata": {},
   "outputs": [
    {
     "name": "stdout",
     "output_type": "stream",
     "text": [
      "Negative log likelihood: inf\n",
      "Gradient: [ -282.48855284  -296.42744838   234.63641144    98.57911862\n",
      "  -223.5762312    633.13827656  -329.55892778   551.0560493\n",
      "   733.72151613   -96.42320804   632.76023957   -71.66856199\n",
      "   314.3871573   -373.60012677   -29.07171512   834.86074156\n",
      "  -384.68920123   724.06870454   128.26504076    -7.20381856\n",
      "  -642.39157924   597.19774212   171.81011601   145.49145979\n",
      "   -22.51333631    41.45125525  -605.54693062   294.35567236\n",
      "   170.21285739   526.89672018  -637.71417497    42.84571177\n",
      "  -145.23596356   632.15714382   -73.38891634   419.31729437\n",
      "  -353.58160811    90.8943597     24.74178227   112.30184486\n",
      "  -349.28043588  -276.77557575    56.02753199  -125.98796074\n",
      "   721.68651802  -339.39672445   270.89354301   550.15977749\n",
      "  -126.21833486   130.75872739   423.0754304   -641.99511025\n",
      "  -394.60627181  -249.07439894  -911.64559554   660.65732848\n",
      "    22.91506591  -211.82924815    21.59535836  -158.72451119\n",
      "   546.4348782    176.95486491    69.38720355    80.92223784\n",
      "  -562.38355344   768.58277629  -229.83583469    63.57245785\n",
      "  -192.23054624   140.80688311   -78.92896851   414.2956557\n",
      "    26.77585365   274.47532165  -514.72650995  -232.01915109\n",
      "     1.96388549   375.82828941  -370.44387369  -127.04286355\n",
      "   125.40015645   -38.12061182   -76.86710537  -317.54639318\n",
      "   117.83265397   -35.70430543  -200.99771233   226.39173955\n",
      "  -116.66310406   327.91106346  -150.2929097   -443.06419101\n",
      "   349.80873888  -426.73954153  -191.14628882  -451.18986115\n",
      "  -142.77923675  -295.72173868   -98.70299029  -392.35094926\n",
      "   -57.28159706   220.46585235  -222.32902707  -203.86320537\n",
      "  -281.58610258  -225.03911631  -243.87956954  -512.96192677\n",
      "  -374.85395472   357.42800816  -112.22502053  -523.98297044\n",
      "  -223.38636833  -275.47228347  -240.12979708   423.19235754\n",
      "  -753.15304991   163.04367217   164.43119201   -34.91451734\n",
      "  -297.57759642   -13.85219861  -479.01230818   432.97424008\n",
      "  -160.74602263  -584.8364494    319.96670059  -262.83246778\n",
      "    87.70695751  -128.04113927  -587.83032416   200.15670828\n",
      "   447.76865643   -46.92791648   228.83804162    -9.81567995\n",
      "   754.92084037   521.58992842   -86.67745972  -170.72820093\n",
      "    12.38056862     7.92839041   -89.09620305    92.7393558\n",
      "  -137.97221328   446.89537522   -19.80665132   352.63509933\n",
      "   380.38008737   -63.52453604    42.82575041  -874.99138371\n",
      "  -255.79055014  1120.34366518  -146.37534841    32.47088108\n",
      "  -296.11160806   491.19332019    62.260853     501.77579442\n",
      "  -182.82867402   370.70501042    -5.98337009  -390.13050214\n",
      "   427.06244684   661.63867479  -413.32565731   692.84642726\n",
      "    21.22483321   -68.89383883  -343.42595376   285.59030717\n",
      "  -392.71248968   -65.35326706   202.07933392   -57.24242066\n",
      "    25.13806696  -560.29467951   413.45406234    50.50456954\n",
      "    89.91606893  -638.98833472   628.43777744   267.58852062\n",
      "  -239.26602785   319.20524732   704.03032211   536.86233121\n",
      "    47.94442937   389.772955    -114.87342247   207.7041941\n",
      "  -503.24588457   549.06200661  -499.31093679  -153.06319577\n",
      "   134.10274213  -355.65547822   -21.36636106   414.84270156\n",
      "   219.99472886    -4.6501166   -514.55796812  -632.39453223\n",
      "  -108.07360855  -371.48755261  -583.98364939   -78.68710386\n",
      "  -194.70254329    63.36185131   -84.86746687  -313.16183471\n",
      "   591.03663593  1471.64946872   361.64148343   422.20706638\n",
      " -1100.12326847   209.13303917  -540.83771932    51.51913083\n",
      "    36.70221519   -73.93355048  -221.92584389  -597.52280382\n",
      "  -236.4321423 ]\n"
     ]
    },
    {
     "name": "stderr",
     "output_type": "stream",
     "text": [
      "/home/steph/miniconda3/envs/NDS/lib/python3.10/site-packages/scipy/optimize/_numdiff.py:590: RuntimeWarning: invalid value encountered in subtract\n",
      "  df = fun(x) - f0\n"
     ]
    },
    {
     "name": "stdout",
     "output_type": "stream",
     "text": [
      "Error of gradient: nan\n"
     ]
    }
   ],
   "source": [
    "# Check gradient\n",
    "# insert your code here\n",
    "\n",
    "# compute negative log likelihood and gradient\n",
    "f = negloglike_lnp(w, c, s)\n",
    "df = deriv_negloglike_lnp(w, c, s)\n",
    "\n",
    "print(f\"Negative log likelihood: {f}\")\n",
    "print(f\"Gradient: {df}\")\n",
    "\n",
    "# check gradient\n",
    "err = opt.check_grad(negloglike_lnp, deriv_negloglike_lnp, w, c, s)\n",
    "print(f\"Error of gradient: {err}\")"
   ]
  },
  {
   "cell_type": "markdown",
   "metadata": {},
   "source": [
    "Fit receptive field maximizing the log likelihood.\n",
    "\n",
    "The scipy.optimize package also has suitable functions for optimization. If you generate a large number of samples, the fitted receptive field will look more similar to the true receptive field. With more samples, the optimization takes longer, however."
   ]
  },
  {
   "cell_type": "code",
   "execution_count": null,
   "metadata": {},
   "outputs": [],
   "source": [
    "# insert your code here\n",
    "\n",
    "# ------------------------------------------\n",
    "# Estimate the receptive field by maximizing\n",
    "# the log-likelihood (or more commonly,\n",
    "# minimizing the negative log-likelihood).\n",
    "#\n",
    "# Tips: use scipy.optimize.minimize(). (1 pt)\n",
    "# ------------------------------------------"
   ]
  },
  {
   "cell_type": "code",
   "execution_count": null,
   "metadata": {},
   "outputs": [],
   "source": [
    "# insert your code here\n",
    "\n",
    "# ------------------------------------\n",
    "# Plot the ground truth and estimated\n",
    "# `w` side by side. (0.5 pts)\n",
    "# ------------------------------------\n",
    "\n",
    "mosaic = [[\"True\", \"Estimated\"]]\n",
    "fig, ax = plt.subplot_mosaic(mosaic=mosaic, figsize=(12, 5))\n",
    "\n",
    "# make sure to add a colorbar. 'bwr' is a reasonable choice for the cmap."
   ]
  },
  {
   "cell_type": "markdown",
   "metadata": {},
   "source": [
    "## Task 2: Apply to real neuron\n",
    "\n",
    "Download the dataset for this task from Ilias (`nds_cl_5_data.mat`). It contains a stimulus matrix (`s`) in the same format you used before and the spike times. In addition, there is an array called `trigger` which contains the times at which the stimulus frames were swapped.\n",
    "\n",
    "* Generate an array of spike counts at the same temporal resolution as the stimulus frames\n",
    "* Fit the receptive field with time lags of 0 to 4 frames. Fit them one lag at a time (the ML fit is very sensitive to the number of parameters estimated and will not produce good results if you fit the full space-time receptive field for more than two time lags at once). \n",
    "* Plot the resulting filters\n",
    "\n",
    "*Grading: 2 pts*\n"
   ]
  },
  {
   "cell_type": "code",
   "execution_count": null,
   "metadata": {},
   "outputs": [],
   "source": [
    "var = io.loadmat(\"../data/nds_cl_5_data.mat\")\n",
    "\n",
    "# t contains the spike times of the neuron\n",
    "t = var[\"DN_spiketimes\"].flatten()\n",
    "\n",
    "# trigger contains the times at which the stimulus flipped\n",
    "trigger = var[\"DN_triggertimes\"].flatten()\n",
    "\n",
    "# contains the stimulus movie with black and white pixels\n",
    "s = var[\"DN_stim\"]\n",
    "s = s.reshape((300, 1500))  # the shape of each frame is (20, 15)\n",
    "s = s[:, 1 : len(trigger)]"
   ]
  },
  {
   "cell_type": "markdown",
   "metadata": {},
   "source": [
    "Create vector of spike counts"
   ]
  },
  {
   "cell_type": "code",
   "execution_count": null,
   "metadata": {},
   "outputs": [],
   "source": [
    "# insert your code here\n",
    "\n",
    "# ------------------------------------------\n",
    "# Bin the spike counts at the same temporal\n",
    "# resolution as the stimulus (0.5 pts)\n",
    "# ------------------------------------------"
   ]
  },
  {
   "cell_type": "markdown",
   "metadata": {},
   "source": [
    "Fit receptive field for each frame separately"
   ]
  },
  {
   "cell_type": "code",
   "execution_count": null,
   "metadata": {},
   "outputs": [],
   "source": [
    "# insert your code here\n",
    "\n",
    "# ------------------------------------------\n",
    "# Fit the receptive field with time lags of\n",
    "# 0 to 4 frames separately (1 pt)\n",
    "#\n",
    "# The final receptive field (`w_hat`) should\n",
    "# be in the shape of (Dx * Dy, 5)\n",
    "# ------------------------------------------\n",
    "\n",
    "# specify the time lags\n",
    "delta = [0, 1, 2, 3, 4]\n",
    "\n",
    "# fit for each delay"
   ]
  },
  {
   "cell_type": "markdown",
   "metadata": {},
   "source": [
    "Plot the frames one by one"
   ]
  },
  {
   "cell_type": "code",
   "execution_count": null,
   "metadata": {},
   "outputs": [],
   "source": [
    "# insert your code here\n",
    "\n",
    "# --------------------------------------------\n",
    "# Plot all 5 frames of the fitted RFs (0.5 pt)\n",
    "# --------------------------------------------\n",
    "\n",
    "fig, ax = plt.subplot_mosaic(mosaic=[delta], figsize=(10, 4), constrained_layout=True)"
   ]
  },
  {
   "cell_type": "markdown",
   "metadata": {},
   "source": [
    "## Task 3: Separate space/time components\n",
    "\n",
    "The receptive field of the neuron can be decomposed into a spatial and a temporal component. Because of the way we computed them, both are independent and the resulting spatio-temporal component is thus called separable. As discussed in the lecture, you can use singular-value decomposition to separate these two: \n",
    "\n",
    "$$\n",
    "W = u_1 s_1 v_1^T\n",
    "$$\n",
    "\n",
    "Here $u_1$ and $v_1$ are the singular vectors belonging to the 1st singular value $s_1$ and provide a long rank approximation of W, the array with all receptive fields. It is important that the mean is subtracted before computing the SVD.  \n",
    "\n",
    "Plot the first temporal component and the first spatial component. You can use a Python implementation of SVD. The results can look a bit puzzling, because the sign of the components is arbitrary.\n",
    "\n",
    "*Grading: 1 pts*"
   ]
  },
  {
   "cell_type": "code",
   "execution_count": null,
   "metadata": {},
   "outputs": [],
   "source": [
    "# insert your code here\n",
    "\n",
    "# --------------------------------------------\n",
    "# Apply SVD to the fitted receptive field,\n",
    "# you can use either numpy or sklearn (0.5 pt)\n",
    "# --------------------------------------------\n",
    "\n",
    "# shape of w_hat: (300,5).\n",
    "# subtract mean along axis=1 (time) since for every timelag the RF is estimated independently\n",
    "\n",
    "# -------------------------------------------------\n",
    "# Plot the spatial and temporal components (0.5 pt)\n",
    "# -------------------------------------------------\n",
    "\n",
    "fig, ax = plt.subplot_mosaic(\n",
    "    mosaic=[[\"Spatial\", \"Temporal\"]], figsize=(10, 4), constrained_layout=True\n",
    ")\n",
    "# add plot"
   ]
  },
  {
   "cell_type": "markdown",
   "metadata": {},
   "source": [
    "## Task 4: Regularized receptive field\n",
    "\n",
    "As you can see, maximum likelihood estimation of linear receptive fields can be quite noisy, if little data is available. \n",
    "\n",
    "To improve on this, one can regularize the receptive field vector and a term to the cost function\n",
    "\n",
    "\n",
    "$$\n",
    "C(w) = L(w) + \\alpha ||w||_p^2\n",
    "$$\n",
    "\n",
    "Here, the $p$ indicates which norm of $w$ is used: for $p=2$, this is shrinks all coefficient equally to zero; for $p=1$, it favors sparse solutions, a penality also known as lasso. Because the 1-norm is not smooth at zero, it is not as straightforward to implement \"by hand\". \n",
    "\n",
    "Use a toolbox with an implementation of the lasso-penalization and fit the receptive field. Possibly, you will have to try different values of the regularization parameter $\\alpha$. Plot your estimates from above and the lasso-estimates. How do they differ? What happens when you increase or decrease $alpha$?\n",
    "\n",
    "If you want to keep the Poisson noise model, you can use the implementation in [`pyglmnet`](https://pypi.python.org/pypi/pyglmnet). Otherwise, you can also resort to the linear model from `sklearn` which assumes Gaussian noise (which in my hands was much faster).\n",
    "\n",
    "*Grading: 2 pts*\n"
   ]
  },
  {
   "cell_type": "code",
   "execution_count": null,
   "metadata": {},
   "outputs": [],
   "source": [
    "from sklearn import linear_model\n",
    "\n",
    "# insert your code here\n",
    "\n",
    "# ------------------------------------------\n",
    "# Fit the receptive field with time lags of\n",
    "# 0 to 4 frames separately (the same as before)\n",
    "# with sklern or pyglmnet (1 pt)\n",
    "# ------------------------------------------\n",
    "\n",
    "delta = [0, 1, 2, 3, 4]"
   ]
  },
  {
   "cell_type": "code",
   "execution_count": null,
   "metadata": {},
   "outputs": [],
   "source": [
    "# ------------------------------------------\n",
    "# plot the estimated receptive fields (1 pt)\n",
    "# ------------------------------------------\n",
    "\n",
    "fig, ax = plt.subplot_mosaic(mosaic=[delta], figsize=(10, 4), constrained_layout=True)\n",
    "# add plot"
   ]
  }
 ],
 "metadata": {
  "kernelspec": {
   "display_name": "python3",
   "language": "python",
   "name": "python3"
  }
 },
 "nbformat": 4,
 "nbformat_minor": 4
}
