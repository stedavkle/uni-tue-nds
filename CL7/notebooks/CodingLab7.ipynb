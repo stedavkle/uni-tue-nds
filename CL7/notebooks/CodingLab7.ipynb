{
 "cells": [
  {
   "attachments": {},
   "cell_type": "markdown",
   "metadata": {},
   "source": [
    "_Neural Data Science_\n",
    "\n",
    "Lecturer: Jan Lause, Prof. Dr. Philipp Berens\n",
    "\n",
    "Tutors: Jonas Beck, Rita González Márquez, Fabio Seel\n",
    "\n",
    "Summer term 2024\n",
    "\n",
    "Name: FILL IN YOUR NAMES HERE\n",
    "\n",
    "# Coding Lab 7 : Transcriptomics\n",
    "\n"
   ]
  },
  {
   "cell_type": "code",
   "execution_count": null,
   "metadata": {},
   "outputs": [
    {
     "data": {
      "text/html": [
       "\n",
       "                <script type=\"application/javascript\" id=\"jupyter_black\">\n",
       "                (function() {\n",
       "                    if (window.IPython === undefined) {\n",
       "                        return\n",
       "                    }\n",
       "                    var msg = \"WARNING: it looks like you might have loaded \" +\n",
       "                        \"jupyter_black in a non-lab notebook with \" +\n",
       "                        \"`is_lab=True`. Please double check, and if \" +\n",
       "                        \"loading with `%load_ext` please review the README!\"\n",
       "                    console.log(msg)\n",
       "                    alert(msg)\n",
       "                })()\n",
       "                </script>\n",
       "                "
      ],
      "text/plain": [
       "<IPython.core.display.HTML object>"
      ]
     },
     "metadata": {},
     "output_type": "display_data"
    },
    {
     "name": "stdout",
     "output_type": "stream",
     "text": [
      "Last updated: 2024-04-11 11:01:39CEST\n",
      "\n",
      "Python implementation: CPython\n",
      "Python version       : 3.12.2\n",
      "IPython version      : 8.22.2\n",
      "\n",
      "sklearn: 1.4.1.post1\n",
      "\n",
      "numpy     : 1.26.4\n",
      "pandas    : 2.2.1\n",
      "matplotlib: 3.8.3\n",
      "\n",
      "Watermark: 2.4.3\n",
      "\n"
     ]
    }
   ],
   "source": [
    "import numpy as np\n",
    "import pylab as plt\n",
    "import pandas as pd\n",
    "import matplotlib.pyplot as plt\n",
    "\n",
    "# We recommend using openTSNE for experiments with t-SNE\n",
    "# https://github.com/pavlin-policar/openTSNE\n",
    "from openTSNE import TSNE\n",
    "\n",
    "%matplotlib inline\n",
    "\n",
    "%load_ext jupyter_black\n",
    "\n",
    "%load_ext watermark\n",
    "%watermark --time --date --timezone --updated --python --iversions --watermark -p sklearn"
   ]
  },
  {
   "cell_type": "code",
   "execution_count": null,
   "metadata": {},
   "outputs": [],
   "source": [
    "plt.style.use(\"../matplotlib_style.txt\")"
   ]
  },
  {
   "cell_type": "markdown",
   "metadata": {},
   "source": [
    "## Load data"
   ]
  },
  {
   "cell_type": "markdown",
   "metadata": {},
   "source": [
    "Download the data from ILIAS, move it to the `data` directory and unzip it there."
   ]
  },
  {
   "cell_type": "code",
   "execution_count": null,
   "metadata": {},
   "outputs": [],
   "source": [
    "# LOAD HARRIS ET AL DATA\n",
    "\n",
    "# Load gene counts\n",
    "data = pd.read_csv(\"../data/nds_cl_7/harris-data/expression.tsv.gz\", sep=\"\\t\")\n",
    "genes = data.values[:, 0]\n",
    "cells = data.columns[1:-1]\n",
    "counts = data.values[:, 1:-1].transpose().astype(\"int\")\n",
    "data = []\n",
    "\n",
    "# Kick out all genes with all counts = 0\n",
    "genes = genes[counts.sum(axis=0) > 0]\n",
    "counts = counts[:, counts.sum(axis=0) > 0]\n",
    "print(counts.shape)\n",
    "\n",
    "# Load clustering results\n",
    "data = pd.read_csv(\"../data/nds_cl_7/harris-data/analysis_results.tsv\", sep=\"\\t\")\n",
    "clusterNames, clusters = np.unique(data.values[0, 1:-1], return_inverse=True)\n",
    "\n",
    "# Load cluster colors\n",
    "data = pd.read_csv(\"../data/nds_cl_7/harris-data/colormap.txt\", sep=\"\\s+\", header=None)\n",
    "clusterColors = data.values\n",
    "\n",
    "# Note: the color order needs to be reversed to match the publication\n",
    "clusterColors = clusterColors[::-1]\n",
    "\n",
    "# Taken from Figure 1 - we need cluster order to get correct color order\n",
    "clusterOrder = [\n",
    "    \"Sst.No\",\n",
    "    \"Sst.Npy.C\",\n",
    "    \"Sst.Npy.Z\",\n",
    "    \"Sst.Npy.S\",\n",
    "    \"Sst.Npy.M\",\n",
    "    \"Sst.Pnoc.Calb1.I\",\n",
    "    \"Sst.Pnoc.Calb1.P\",\n",
    "    \"Sst.Pnoc.P\",\n",
    "    \"Sst.Erbb4.R\",\n",
    "    \"Sst.Erbb4.C\",\n",
    "    \"Sst.Erbb4.T\",\n",
    "    \"Pvalb.Tac1.N\",\n",
    "    \"Pvalb.Tac1.Ss\",\n",
    "    \"Pvalb.Tac1.Sy\",\n",
    "    \"Pvalb.Tac1.A\",\n",
    "    \"Pvalb.C1ql1.P\",\n",
    "    \"Pvalb.C1ql1.C\",\n",
    "    \"Pvalb.C1ql1.N\",\n",
    "    \"Cacna2d1.Lhx6.R\",\n",
    "    \"Cacna2d1.Lhx6.V\",\n",
    "    \"Cacna2d1.Ndnf.N\",\n",
    "    \"Cacna2d1.Ndnf.R\",\n",
    "    \"Cacna2d1.Ndnf.C\",\n",
    "    \"Calb2.Cry\",\n",
    "    \"Sst.Cry\",\n",
    "    \"Ntng1.S\",\n",
    "    \"Ntng1.R\",\n",
    "    \"Ntng1.C\",\n",
    "    \"Cck.Sema\",\n",
    "    \"Cck.Lmo1.N\",\n",
    "    \"Cck.Calca\",\n",
    "    \"Cck.Lmo1.Vip.F\",\n",
    "    \"Cck.Lmo1.Vip.C\",\n",
    "    \"Cck.Lmo1.Vip.T\",\n",
    "    \"Cck.Ly\",\n",
    "    \"Cck.Cxcl14.Calb1.Tn\",\n",
    "    \"Cck.Cxcl14.Calb1.I\",\n",
    "    \"Cck.Cxcl14.S\",\n",
    "    \"Cck.Cxcl14.Calb1.K\",\n",
    "    \"Cck.Cxcl14.Calb1.Ta\",\n",
    "    \"Cck.Cxcl14.V\",\n",
    "    \"Vip.Crh.P\",\n",
    "    \"Vip.Crh.C1\",\n",
    "    \"Calb2.Vip.G\",\n",
    "    \"Calb2.Vip.I\",\n",
    "    \"Calb2.Vip.Nos1\",\n",
    "    \"Calb2.Cntnap5a.R\",\n",
    "    \"Calb2.Cntnap5a.V\",\n",
    "    \"Calb2.Cntnap5a.I\",\n",
    "]\n",
    "\n",
    "reorder = np.zeros(clusterNames.size) * np.nan\n",
    "for i, c in enumerate(clusterNames):\n",
    "    for j, k in enumerate(clusterOrder):\n",
    "        if c[: len(k)] == k:\n",
    "            reorder[i] = j\n",
    "            break\n",
    "clusterColors = clusterColors[reorder.astype(int)]"
   ]
  },
  {
   "cell_type": "markdown",
   "metadata": {},
   "source": [
    "## 1. Data inspection\n",
    "Before we use t-SNE or any other advanced visualization methods on the data, we first want to have a closer look on the data and plot some statistics. For most of the analysis we will compare the data to a Poisson distribution."
   ]
  },
  {
   "cell_type": "markdown",
   "metadata": {},
   "source": [
    "###  1.1. Relationship between expression mean and fraction of zeros\n",
    "The higher the average expression of a gene, the smaller fraction of cells will show a 0 count. \n",
    "\n",
    "\n",
    "_(2pt.)_"
   ]
  },
  {
   "cell_type": "code",
   "execution_count": null,
   "metadata": {},
   "outputs": [],
   "source": [
    "# ------------------------------------------------------\n",
    "# Compute actual and predicted gene expression (1.5 pts)\n",
    "# ------------------------------------------------------\n",
    "\n",
    "# Compute the average expression for each gene\n",
    "# Compute the fraction of zeros for each gene"
   ]
  },
  {
   "cell_type": "code",
   "execution_count": null,
   "metadata": {},
   "outputs": [],
   "source": [
    "# Compute the Poisson prediction\n",
    "\n",
    "# (what is the expected fraction of zeros in a Poisson distribution with a given mean?)"
   ]
  },
  {
   "cell_type": "code",
   "execution_count": null,
   "metadata": {},
   "outputs": [],
   "source": [
    "# --------------------------------------------------\n",
    "# plot the data and the Poisson prediction (0.5 pts)\n",
    "# --------------------------------------------------\n",
    "\n",
    "fig, ax = plt.subplots(figsize=(6, 4))\n",
    "# add plot"
   ]
  },
  {
   "cell_type": "markdown",
   "metadata": {},
   "source": [
    "### 1.2. Mean-variance relationship\n",
    "\n",
    "If the expression follows Poisson distribution, then the mean should be equal to the variance.\n",
    "\n",
    "_(1pt.)_"
   ]
  },
  {
   "cell_type": "code",
   "execution_count": null,
   "metadata": {},
   "outputs": [],
   "source": [
    "# Compute the variance of the expression counts of each gene"
   ]
  },
  {
   "cell_type": "code",
   "execution_count": null,
   "metadata": {},
   "outputs": [],
   "source": [
    "# Plot the mean-variance relationship on a log-log plot\n",
    "# Plot the Poisson prediction as a line\n",
    "\n",
    "fig, ax = plt.subplots(figsize=(6, 4))\n",
    "\n",
    "# ----------------------------\n",
    "# plot variance vs mean (1 pt)\n",
    "# incl. computing mean and var\n",
    "# ----------------------------"
   ]
  },
  {
   "cell_type": "markdown",
   "metadata": {},
   "source": [
    "### 1.3. Relationship between the mean and the Fano factor\n",
    "\n",
    "If the expression follows the Poisson distribution, then the Fano factor (variance/mean) should be equal to 1 for all genes.\n",
    "\n",
    "_(1pt.)_"
   ]
  },
  {
   "cell_type": "code",
   "execution_count": null,
   "metadata": {},
   "outputs": [],
   "source": [
    "# Compute the Fano factor for each gene and make a scatter plot\n",
    "# of expression mean vs. Fano factor in log-log coordinates.\n",
    "\n",
    "fano ="
   ]
  },
  {
   "cell_type": "code",
   "execution_count": null,
   "metadata": {},
   "outputs": [],
   "source": [
    "# Plot a Poisson prediction as line\n",
    "# Use the same style of plot as above.\n",
    "\n",
    "fig, ax = plt.subplots(figsize=(6, 4))\n",
    "\n",
    "# -------------------------------\n",
    "# plot fano-factor vs mean (1 pt)\n",
    "# incl. fano factor\n",
    "# -------------------------------"
   ]
  },
  {
   "cell_type": "markdown",
   "metadata": {},
   "source": [
    "### 1.4. Histogram of sequencing depths\n",
    "\n",
    "Different cells have different sequencing depths (sum of counts across all genes) because the efficiency can change from droplet to droplet due to some random expreimental factors.\n",
    "\n",
    "_(1pt.)_"
   ]
  },
  {
   "cell_type": "code",
   "execution_count": null,
   "metadata": {},
   "outputs": [],
   "source": [
    "# Make a histogram of sequencing depths across cells.\n",
    "# Sequencing depth of each cell is the sum of all counts of this cell\n",
    "\n",
    "fig, ax = plt.subplots(figsize=(6, 4))\n",
    "\n",
    "# ------------------------------------------\n",
    "# Plot histogram of sequencing depths (1 pt)\n",
    "# ------------------------------------------"
   ]
  },
  {
   "cell_type": "markdown",
   "metadata": {},
   "source": [
    "### 1.5. Fano factors after normalization\n",
    "\n",
    "After normalization by sequencing depth, Fano factor should be closer to 1 (i.e. variance even more closely following the mean). This can be used for feature selection.\n",
    "\n",
    "_(1pt.)_"
   ]
  },
  {
   "cell_type": "code",
   "execution_count": null,
   "metadata": {},
   "outputs": [],
   "source": [
    "# Normalize counts by the sequencing depth of each cell and multiply by the median sequencing depth\n",
    "# Then make the same expression vs Fano factor plot as above\n",
    "\n",
    "# -----------------------------------\n",
    "# compute normalized counts (0.5 pts)\n",
    "# -----------------------------------"
   ]
  },
  {
   "cell_type": "code",
   "execution_count": null,
   "metadata": {},
   "outputs": [],
   "source": [
    "# ----------------------------------------------------------\n",
    "# plot normalized counts and find the top 10 genes (0.5 pts)\n",
    "# hint: keep appropriate axis scaling in mind\n",
    "# ----------------------------------------------------------\n",
    "\n",
    "fig, ax = plt.subplots(figsize=(6, 4))\n",
    "# add plot"
   ]
  },
  {
   "cell_type": "code",
   "execution_count": null,
   "metadata": {},
   "outputs": [],
   "source": [
    "# Find top-10 genes with the highest normalized Fano factor\n",
    "# Print them sorted by the Fano factor starting from the highest\n",
    "# Gene names are stored in the `genes` array"
   ]
  },
  {
   "cell_type": "markdown",
   "metadata": {},
   "source": [
    "## 2. Low dimensional visualization\n",
    "\n",
    "Here we look at the influence of variance-stabilizing transformations on PCA and t-SNE."
   ]
  },
  {
   "cell_type": "markdown",
   "metadata": {},
   "source": [
    "### 2.1. PCA with and without transformations\n",
    "\n",
    "Square root is a variance-stabilizing transformation for the Poisson data. Log-transform is also often used in the transcriptomic community. Look at the effect of both.\n",
    "\n",
    "_(1pt.)_"
   ]
  },
  {
   "cell_type": "code",
   "execution_count": null,
   "metadata": {},
   "outputs": [],
   "source": [
    "# --------------------------------------\n",
    "# transform data and apply PCA (0.5 pts)\n",
    "# --------------------------------------\n",
    "\n",
    "# Transform the counts into normalized counts (as above)\n",
    "# Select all genes with the normalized Fano factor above 3 and remove the rest"
   ]
  },
  {
   "cell_type": "code",
   "execution_count": null,
   "metadata": {},
   "outputs": [],
   "source": [
    "# Perform PCA three times: on the resulting matrix as is,\n",
    "# after np.log2(X+1) transform, and after np.sqrt(X) transform\n",
    "\n",
    "from sklearn.decomposition import PCA\n",
    "\n",
    "# perform PCA"
   ]
  },
  {
   "cell_type": "code",
   "execution_count": null,
   "metadata": {},
   "outputs": [],
   "source": [
    "# -------------------------------------------\n",
    "# plot first 2 PCs for each dataset (0.5 pts)\n",
    "# -------------------------------------------\n",
    "\n",
    "fig, axs = plt.subplots(1, 3, figsize=(9, 3))\n",
    "# add plot"
   ]
  },
  {
   "cell_type": "markdown",
   "metadata": {},
   "source": [
    "### 2.2. tSNE with and without transformations\n",
    "\n",
    "Do these transformations have any effect on t-SNE?\n",
    "\n",
    "_(1pt.)_"
   ]
  },
  {
   "cell_type": "code",
   "execution_count": null,
   "metadata": {},
   "outputs": [],
   "source": [
    "# -----------------------------------------------------------------------\n",
    "# Perform tSNE three times: on the resulting matrix as is,\n",
    "# after np.log2(X+1) transform, and after np.sqrt(X) transform. (0.5 pts)\n",
    "# -----------------------------------------------------------------------\n",
    "\n",
    "# Apply t-SNE to the 50 PCs\n",
    "\n",
    "# Use default settings of openTSNE\n",
    "# You can also use sklearn if you want"
   ]
  },
  {
   "cell_type": "code",
   "execution_count": null,
   "metadata": {},
   "outputs": [],
   "source": [
    "# -----------------------------------------------\n",
    "# plot t-SNE embedding for each dataset (0.5 pts)\n",
    "# -----------------------------------------------\n",
    "\n",
    "fig, axs = plt.subplots(1, 3, figsize=(9, 3))\n",
    "# add plot"
   ]
  },
  {
   "cell_type": "markdown",
   "metadata": {},
   "source": [
    "### 2.3. Leiden clustering\n",
    "\n",
    "This dataset is small and can be clustered in many different ways. We will apply Leiden clustering (closely related to the Louvain clustering), which is standard in the field and works well even for very large datasets.\n",
    "\n",
    "_(1pt.)_"
   ]
  },
  {
   "cell_type": "code",
   "execution_count": null,
   "metadata": {},
   "outputs": [],
   "source": [
    "# To run this code you need to install leidenalg and igraph\n",
    "# conda install -c conda-forge python-igraph leidenalg\n",
    "\n",
    "import igraph as ig\n",
    "from sklearn.neighbors import NearestNeighbors, kneighbors_graph\n",
    "import leidenalg as la"
   ]
  },
  {
   "cell_type": "code",
   "execution_count": null,
   "metadata": {},
   "outputs": [],
   "source": [
    "# Define some contrast colors\n",
    "\n",
    "clusterCols = [\n",
    "    \"#FFFF00\",\n",
    "    \"#1CE6FF\",\n",
    "    \"#FF34FF\",\n",
    "    \"#FF4A46\",\n",
    "    \"#008941\",\n",
    "    \"#006FA6\",\n",
    "    \"#A30059\",\n",
    "    \"#FFDBE5\",\n",
    "    \"#7A4900\",\n",
    "    \"#0000A6\",\n",
    "    \"#63FFAC\",\n",
    "    \"#B79762\",\n",
    "    \"#004D43\",\n",
    "    \"#8FB0FF\",\n",
    "    \"#997D87\",\n",
    "    \"#5A0007\",\n",
    "    \"#809693\",\n",
    "    \"#FEFFE6\",\n",
    "    \"#1B4400\",\n",
    "    \"#4FC601\",\n",
    "    \"#3B5DFF\",\n",
    "    \"#4A3B53\",\n",
    "    \"#FF2F80\",\n",
    "    \"#61615A\",\n",
    "    \"#BA0900\",\n",
    "    \"#6B7900\",\n",
    "    \"#00C2A0\",\n",
    "    \"#FFAA92\",\n",
    "    \"#FF90C9\",\n",
    "    \"#B903AA\",\n",
    "    \"#D16100\",\n",
    "    \"#DDEFFF\",\n",
    "    \"#000035\",\n",
    "    \"#7B4F4B\",\n",
    "    \"#A1C299\",\n",
    "    \"#300018\",\n",
    "    \"#0AA6D8\",\n",
    "    \"#013349\",\n",
    "    \"#00846F\",\n",
    "    \"#372101\",\n",
    "    \"#FFB500\",\n",
    "    \"#C2FFED\",\n",
    "    \"#A079BF\",\n",
    "    \"#CC0744\",\n",
    "    \"#C0B9B2\",\n",
    "    \"#C2FF99\",\n",
    "    \"#001E09\",\n",
    "    \"#00489C\",\n",
    "    \"#6F0062\",\n",
    "    \"#0CBD66\",\n",
    "    \"#EEC3FF\",\n",
    "    \"#456D75\",\n",
    "    \"#B77B68\",\n",
    "    \"#7A87A1\",\n",
    "    \"#788D66\",\n",
    "    \"#885578\",\n",
    "    \"#FAD09F\",\n",
    "    \"#FF8A9A\",\n",
    "    \"#D157A0\",\n",
    "    \"#BEC459\",\n",
    "    \"#456648\",\n",
    "    \"#0086ED\",\n",
    "    \"#886F4C\",\n",
    "    \"#34362D\",\n",
    "    \"#B4A8BD\",\n",
    "    \"#00A6AA\",\n",
    "    \"#452C2C\",\n",
    "    \"#636375\",\n",
    "    \"#A3C8C9\",\n",
    "    \"#FF913F\",\n",
    "    \"#938A81\",\n",
    "    \"#575329\",\n",
    "    \"#00FECF\",\n",
    "    \"#B05B6F\",\n",
    "    \"#8CD0FF\",\n",
    "    \"#3B9700\",\n",
    "    \"#04F757\",\n",
    "    \"#C8A1A1\",\n",
    "    \"#1E6E00\",\n",
    "    \"#7900D7\",\n",
    "    \"#A77500\",\n",
    "    \"#6367A9\",\n",
    "    \"#A05837\",\n",
    "    \"#6B002C\",\n",
    "    \"#772600\",\n",
    "    \"#D790FF\",\n",
    "    \"#9B9700\",\n",
    "    \"#549E79\",\n",
    "    \"#FFF69F\",\n",
    "    \"#201625\",\n",
    "    \"#72418F\",\n",
    "    \"#BC23FF\",\n",
    "    \"#99ADC0\",\n",
    "    \"#3A2465\",\n",
    "    \"#922329\",\n",
    "    \"#5B4534\",\n",
    "    \"#FDE8DC\",\n",
    "    \"#404E55\",\n",
    "    \"#0089A3\",\n",
    "    \"#CB7E98\",\n",
    "    \"#A4E804\",\n",
    "    \"#324E72\",\n",
    "    \"#6A3A4C\",\n",
    "    \"#83AB58\",\n",
    "    \"#001C1E\",\n",
    "    \"#D1F7CE\",\n",
    "    \"#004B28\",\n",
    "    \"#C8D0F6\",\n",
    "    \"#A3A489\",\n",
    "    \"#806C66\",\n",
    "    \"#222800\",\n",
    "    \"#BF5650\",\n",
    "    \"#E83000\",\n",
    "    \"#66796D\",\n",
    "    \"#DA007C\",\n",
    "    \"#FF1A59\",\n",
    "    \"#8ADBB4\",\n",
    "    \"#1E0200\",\n",
    "    \"#5B4E51\",\n",
    "    \"#C895C5\",\n",
    "    \"#320033\",\n",
    "    \"#FF6832\",\n",
    "    \"#66E1D3\",\n",
    "    \"#CFCDAC\",\n",
    "    \"#D0AC94\",\n",
    "    \"#7ED379\",\n",
    "    \"#012C58\",\n",
    "]\n",
    "\n",
    "clusterCols = np.array(clusterCols)\n",
    "\n",
    "# ------------------------------------------------------\n",
    "# create graph and run leiden clustering on it (0.5 pts)\n",
    "# hint: use `la?`, `la.find_partition?` and `ig.Graph?`\n",
    "# to find out more about the provided packages.\n",
    "# ------------------------------------------------------\n",
    "\n",
    "# Construct kNN graph with k=15\n",
    "\n",
    "A =\n",
    "\n",
    "# Transform it into an igraph object\n",
    "\n",
    "sources, targets = A.nonzero()"
   ]
  },
  {
   "cell_type": "code",
   "execution_count": null,
   "metadata": {},
   "outputs": [],
   "source": [
    "# Run Leiden clustering\n",
    "# you can use `la.RBConfigurationVertexPartition` as the partition type"
   ]
  },
  {
   "cell_type": "code",
   "execution_count": null,
   "metadata": {},
   "outputs": [],
   "source": [
    "# --------------------------\n",
    "# Plot the results (0.5 pts)\n",
    "# --------------------------\n",
    "\n",
    "fig, ax = plt.subplots(figsize=(4, 4))"
   ]
  },
  {
   "cell_type": "markdown",
   "metadata": {},
   "source": [
    "### 2.4. Change the clustering resolution\n",
    "\n",
    "The number of clusters can be changed by modifying the resolution parameter.\n",
    "\n",
    "_(1pt.)_"
   ]
  },
  {
   "cell_type": "code",
   "execution_count": null,
   "metadata": {},
   "outputs": [],
   "source": [
    "# How many clusters did we get?\n",
    "# Change the resolution parameter to yield 2x more and 2x fewer clusters\n",
    "# Plot all three results as tSNE overlays (as above)\n",
    "\n",
    "# ------------------------------------------------------------------\n",
    "# run the clustering for 3 different resolution parameters (0.5 pts)\n",
    "# ------------------------------------------------------------------"
   ]
  },
  {
   "cell_type": "code",
   "execution_count": null,
   "metadata": {},
   "outputs": [],
   "source": [
    "# --------------------------\n",
    "# Plot the results (0.5 pts)\n",
    "# --------------------------\n",
    "\n",
    "fig, axs = plt.subplots(1, 3, figsize=(9, 3))\n",
    "# add plot"
   ]
  }
 ],
 "metadata": {
  "kernelspec": {
   "display_name": "python3",
   "language": "python",
   "name": "python3"
  }
 },
 "nbformat": 4,
 "nbformat_minor": 4
}
